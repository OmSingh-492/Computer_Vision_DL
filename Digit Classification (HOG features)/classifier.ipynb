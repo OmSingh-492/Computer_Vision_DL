{
 "cells": [
  {
   "cell_type": "code",
   "execution_count": 18,
   "metadata": {
    "id": "6Q77PxqeXQru"
   },
   "outputs": [],
   "source": [
    "# Importing required libraries.\n",
    "import zipfile\n",
    "import os\n",
    "import cv2\n",
    "import numpy as np\n",
    "from PIL import Image\n",
    "from sklearn.model_selection import train_test_split, GridSearchCV\n",
    "from sklearn.metrics import accuracy_score\n",
    "from sklearn.svm import SVC\n",
    "from sklearn.ensemble import RandomForestClassifier, AdaBoostClassifier\n",
    "from sklearn.neighbors import KNeighborsClassifier\n",
    "from sklearn.linear_model import LogisticRegression\n",
    "from sklearn.discriminant_analysis import LinearDiscriminantAnalysis\n",
    "from sklearn.naive_bayes import GaussianNB"
   ]
  },
  {
   "cell_type": "code",
   "execution_count": 19,
   "metadata": {
    "id": "_bwFgo10lNFh"
   },
   "outputs": [],
   "source": [
    "# Loading the MNIST dataset from the local folder.\n",
    "def extract_zip(zip_path, extract_to='Data'):\n",
    "    if not os.path.exists(extract_to):\n",
    "        with zipfile.ZipFile(zip_path, 'r') as zip_ref:\n",
    "            zip_ref.extractall(extract_to)\n",
    "    return extract_to\n",
    "\n",
    "def load_data(root_dir):\n",
    "    images, labels = [], []\n",
    "    for root, dirs, files in os.walk(root_dir):\n",
    "        if os.path.basename(root).isdigit():\n",
    "            label = int(os.path.basename(root))\n",
    "            for img_file in os.listdir(root):\n",
    "                img_path = os.path.join(root, img_file)\n",
    "                if os.path.isfile(img_path):\n",
    "                    img = Image.open(img_path).convert('L')\n",
    "                    image = np.array(img)\n",
    "                    images.append(image)\n",
    "                    labels.append(label)\n",
    "    return np.array(images), np.array(labels)"
   ]
  },
  {
   "cell_type": "code",
   "execution_count": 23,
   "metadata": {
    "colab": {
     "base_uri": "https://localhost:8080/"
    },
    "id": "BoAFw93P9P7B",
    "outputId": "69ca8e96-b8f3-450a-c63e-95f0eb040080"
   },
   "outputs": [
    {
     "name": "stdout",
     "output_type": "stream",
     "text": [
      "\n",
      "=== Testing HOG Params: {'cell_size': 7, 'block_size': 14, 'block_stride': 7, 'nbins': 9} ===\n",
      "SVM: 0.9905 (Params: {'C': 10, 'gamma': 'scale'})\n",
      "Logistic Regression: 0.9822 (Params: {'C': 1})\n",
      "LDA: 0.9735 (Params: {'solver': 'svd'})\n",
      "\n",
      "=== Testing HOG Params: {'cell_size': 8, 'block_size': 16, 'block_stride': 4, 'nbins': 9} ===\n",
      "SVM: 0.9902 (Params: {'C': 10, 'gamma': 'scale'})\n",
      "Logistic Regression: 0.9815 (Params: {'C': 1})\n",
      "LDA: 0.9744 (Params: {'solver': 'svd'})\n",
      "\n",
      "=== Testing HOG Params: {'cell_size': 7, 'block_size': 21, 'block_stride': 7, 'nbins': 9} ===\n",
      "SVM: 0.9904 (Params: {'C': 10, 'gamma': 'scale'})\n",
      "Logistic Regression: 0.9792 (Params: {'C': 1})\n",
      "LDA: 0.9711 (Params: {'solver': 'svd'})\n",
      "\n",
      "=== Final Best ===\n",
      "Accuracy: 0.9905\n",
      "HOG Config: {'cell_size': 7, 'block_size': 14, 'block_stride': 7, 'nbins': 9}\n",
      "Best Model: SVM\n",
      "Model Params: {'C': 10, 'gamma': 'scale'}\n"
     ]
    }
   ],
   "source": [
    "# Central code employing HOG Feature extraction and using classifier models on it.\n",
    "if __name__ == \"__main__\":\n",
    "    zip_path = \"./Data.zip\"\n",
    "    extracted_dir = extract_zip(zip_path)\n",
    "    training_dir = os.path.join(extracted_dir, \"MNIST Dataset JPG format\", \"MNIST - JPG - training\")\n",
    "    images, labels = load_data(training_dir)\n",
    "\n",
    "    # Reduced HOG Parameter Grid\n",
    "    hog_params_grid = [\n",
    "        {'cell_size': 7, 'block_size': 14, 'block_stride': 7, 'nbins': 9},\n",
    "        {'cell_size': 8, 'block_size': 16, 'block_stride': 4, 'nbins': 9},\n",
    "        {'cell_size': 7, 'block_size': 21, 'block_stride': 7, 'nbins': 9}\n",
    "    ]\n",
    "\n",
    "    # Faster Classifiers with Simplified Grids\n",
    "    classifiers = [\n",
    "        ('SVM', SVC(), {'C': [1, 10], 'gamma': ['scale']}),  # Reduced options\n",
    "        ('Logistic Regression', LogisticRegression(max_iter=1000), {'C': [0.1, 1]}),\n",
    "        ('LDA', LinearDiscriminantAnalysis(), {'solver': ['svd']}),\n",
    "    ]\n",
    "\n",
    "    best_overall = {'accuracy': 0}\n",
    "\n",
    "    for hog_params in hog_params_grid:\n",
    "        print(f\"\\n=== Testing HOG Params: {hog_params} ===\")\n",
    "\n",
    "        # HOG initialization (same as before)\n",
    "        cell_size = (hog_params['cell_size'], hog_params['cell_size'])\n",
    "        block_size = (hog_params['block_size'], hog_params['block_size'])\n",
    "        block_stride = (hog_params['block_stride'], hog_params['block_stride'])\n",
    "        nbins = hog_params['nbins']\n",
    "\n",
    "        hog = cv2.HOGDescriptor(\n",
    "            (28, 28), block_size, block_stride, cell_size, nbins\n",
    "        )\n",
    "\n",
    "        # Compute HOG features (optimized)\n",
    "        X = np.array([hog.compute(img).flatten() for img in images])\n",
    "        y = labels\n",
    "\n",
    "        # Split data\n",
    "        X_train, X_test, y_train, y_test = train_test_split(X, y, test_size=0.2, random_state=42)\n",
    "\n",
    "        # Fast classifier tuning\n",
    "        for clf_name, clf, param_grid in classifiers:\n",
    "            grid = GridSearchCV(clf, param_grid, cv=3, n_jobs=-1)\n",
    "            grid.fit(X_train, y_train)\n",
    "            best_acc = accuracy_score(y_test, grid.best_estimator_.predict(X_test))\n",
    "\n",
    "            print(f\"{clf_name}: {best_acc:.4f} (Params: {grid.best_params_})\")\n",
    "\n",
    "            if best_acc > best_overall['accuracy']:\n",
    "                best_overall = {\n",
    "                    'accuracy': best_acc,\n",
    "                    'hog_params': hog_params,\n",
    "                    'clf_name': clf_name,\n",
    "                    'clf_params': grid.best_params_\n",
    "                }\n",
    "\n",
    "    print(\"\\n=== Final Best ===\")\n",
    "    print(f\"Accuracy: {best_overall['accuracy']:.4f}\")\n",
    "    print(f\"HOG Config: {best_overall['hog_params']}\")\n",
    "    print(f\"Best Model: {best_overall['clf_name']}\")\n",
    "    print(f\"Model Params: {best_overall['clf_params']}\")"
   ]
  }
 ],
 "metadata": {
  "accelerator": "GPU",
  "colab": {
   "gpuType": "T4",
   "provenance": []
  },
  "kernelspec": {
   "display_name": "Python 3 (ipykernel)",
   "language": "python",
   "name": "python3"
  },
  "language_info": {
   "codemirror_mode": {
    "name": "ipython",
    "version": 3
   },
   "file_extension": ".py",
   "mimetype": "text/x-python",
   "name": "python",
   "nbconvert_exporter": "python",
   "pygments_lexer": "ipython3",
   "version": "3.11.9"
  }
 },
 "nbformat": 4,
 "nbformat_minor": 1
}
